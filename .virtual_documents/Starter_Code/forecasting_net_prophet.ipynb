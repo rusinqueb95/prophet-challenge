





# Install the required libraries
!pip install prophet


# Import the required libraries and dependencies
import pandas as pd
from prophet import Prophet
import datetime as dt
import numpy as np
%matplotlib inline








# Store the data in a Pandas DataFrame
# Set the "Date" column as the Datetime Index.

df_mercado_trends = pd.read_csv(
    "https://static.bc-edx.com/ai/ail-v-1-0/m8/lms/datasets/google_hourly_search_trends.csv",
    index_col='Date',
    parse_dates=True
).dropna()

# Review the first and last five rows of the DataFrame
display(df_mercado_trends.head())
display(df_mercado_trends.tail())


# Review the data types of the DataFrame using the info function
df_mercado_trends.info()


# Slice the DataFrame to just the month of May 2020
df_mercado_trends.loc["2020-05"]


# Plot to visualize the data for May 2020
df_mercado_trends.loc["2020-05"].plot()






# Calculate the sum of the total search traffic for May 2020
traffic_may_2020 = df_mercado_trends.loc["2020-05"]


# View the traffic_may_2020 value
traffic_may_2020["Search Trends"].sum()


traffic_may_2020_value = traffic_may_2020.sum()
traffic_may_2020_value


# Calcluate the monhtly median search traffic across all months
# Group the DataFrame by index year and then index month, chain the sum and then the median functions

median_monthly_traffic = df_mercado_trends.groupby(by=[df_mercado_trends.index.year, df_mercado_trends.index.month]).sum().median()

# View the median_monthly_traffic value
display(median_monthly_traffic)



# Compare the seach traffic for the month of May 2020 to the overall monthly median value
traffic_may_2020/median_monthly_traffic














# Group the hourly search data to plot the average traffic by the day of week, using `df.index.hour`
df_mercado_trends.groupby(by=[df_mercado_trends.index.hour]).mean().plot()






# Group the hourly search data to plot the average traffic by the day of week, using `df.index.isocalendar().day`.
df_mercado_trends.groupby(by=[df_mercado_trends.index.isocalendar().day]).mean().plot()






# Group the hourly search data to plot the average traffic by the week of the year using `df.index.isocalendar().week`.
df_mercado_trends.groupby(by=[df_mercado_trends.index.isocalendar().week]).mean().plot()















# Upload the "mercado_stock_price.csv" file into Colab, then store in a Pandas DataFrame
# Set the "date" column as the Datetime Index.
df_mercado_stock = pd.read_csv(
    "https://static.bc-edx.com/ai/ail-v-1-0/m8/lms/datasets/mercado_stock_price.csv",
    index_col="date",
    parse_dates=True
).dropna()

# View the first and last five rows of the DataFrame
display(df_mercado_stock.head())
display(df_mercado_stock.tail())


# Visualize the closing price of the df_mercado_stock DataFrame


df_mercado_stock.plot()



# Concatenate the df_mercado_stock DataFrame with the df_mercado_trends DataFrame
# Concatenate the DataFrame by columns (axis=1), and drop and rows with only one column of data


concat_df = pd.concat([df_mercado_stock, df_mercado_trends], axis=1)
mercado_df = concat_df.dropna(thresh=2)

# View the first and last five rows of the DataFrame


display(mercado_df.head())
display(mercado_df.tail())





# For the combined dataframe, slice to just the first half of 2020 (2020-01 through 2020-06)
first_half_2020 = mercado_df.loc["2020-01" : "2020-06"]


# View the first and last five rows of first_half_2020 DataFrame


display(first_half_2020.head())

display(first_half_2020.tail())


# Visualize the close and Search Trends data
# Plot each column on a separate axes using the following syntax
# `plot(subplots=True)`

first_half_2020.plot(subplots=True)













# Create a new column in the mercado_stock_trends_df DataFrame called Lagged Search Trends
# This column should shift the Search Trends information by one hour

mercado_df["Lagged Search Trends"] = mercado_df["Search Trends"].shift(1)



# Create a new column in the mercado_stock_trends_df DataFrame called Stock Volatility
# This column should calculate the standard deviation of the closing stock price return data over a 4 period rolling window

mercado_df["Stock Volatility"] = mercado_df["close"].pct_change().rolling(window=4).std()



# Visualize the stock volatility

mercado_df["Stock Volatility"].plot()






# Create a new column in the mercado_stock_trends_df DataFrame called Hourly Stock Return
# This column should calculate hourly return percentage of the closing price
mercado_df["Hourly Stock Return"] = mercado_df["close"].pct_change()




# View the first and last five rows of the mercado_stock_trends_df DataFrame


display(mercado_df.head())
display(mercado_df.tail())





# Construct correlation table of Stock Volatility, Lagged Search Trends, and Hourly Stock Return
mercado_df[['Stock Volatility', 'Lagged Search Trends', 'Hourly Stock Return']].corr()



mercado_df[['Stock Volatility', 'Lagged Search Trends', 'Hourly Stock Return']].corr().plot()















# Using the df_mercado_trends DataFrame, reset the index so the date information is no longer the index

mercado_trends_prophet_df = df_mercado_trends.reset_index()


# Label the columns ds and y so that the syntax is recognized by Prophet

mercado_trends_prophet_df.rename(columns={"Date": "ds",
                                          "Search Trends": "y"},
                                          inplace=True)

# Drop an NaN values from the prophet_df DataFrame

mercado_trends_prophet_df.dropna()


# View the first and last five rows of the mercado_prophet_df DataFrame

mercado_trends_prophet_df
display(mercado_trends_prophet_df.head())
display(mercado_trends_prophet_df.tail())


# Call the Prophet function, store as an object
model = Prophet()
model


# Fit the time-series model.


model.fit(mercado_trends_prophet_df)


# Create a future dataframe to hold predictions
# Make the prediction go out as far as 2000 hours (approx 80 days)

future = model.make_future_dataframe(periods=2000, freq="h")

# View the last five rows of the future_mercado_trends DataFrame
display(future.tail(5))



# Make the predictions for the trend data using the future_mercado_trends DataFrame
forecast = model.predict(future)


# Display the first five rows of the forecast_mercado_trends DataFrame


display(forecast.head(5))






# Plot the Prophet predictions for the Mercado trends data
model.plot(forecast)












# Set the index in the forecast_mercado_trends DataFrame to the ds datetime column


# View the only the yhat,yhat_lower and yhat_upper columns from the DataFrame
forecast[['yhat','yhat_lower','yhat_upper']].head()







# From the forecast_mercado_trends DataFrame, plot the data to visualize
#  the yhat, yhat_lower, and yhat_upper columns over the last 2000 hours
forecast[["yhat", "yhat_lower", "yhat_upper"]].iloc[-2000:,:].plot()



# Reset the index in the forecast_mercado_trends DataFrame
forecast_mercado_trends = forecast.reset_index()


# Use the plot_components function to visualize the forecast results
# for the forecast_mercado_trends DataFrame
figures_mercado_trends = model.plot_components(forecast_mercado_trends)



















